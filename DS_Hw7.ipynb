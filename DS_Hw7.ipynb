{
  "nbformat": 4,
  "nbformat_minor": 0,
  "metadata": {
    "colab": {
      "provenance": [],
      "authorship_tag": "ABX9TyPNYWUTN1E6QSrSHBuTGAj3",
      "include_colab_link": true
    },
    "kernelspec": {
      "name": "python3",
      "display_name": "Python 3"
    },
    "language_info": {
      "name": "python"
    }
  },
  "cells": [
    {
      "cell_type": "markdown",
      "metadata": {
        "id": "view-in-github",
        "colab_type": "text"
      },
      "source": [
        "<a href=\"https://colab.research.google.com/github/Nikita-devel/DS_Hw7/blob/main/DS_Hw7.ipynb\" target=\"_parent\"><img src=\"https://colab.research.google.com/assets/colab-badge.svg\" alt=\"Open In Colab\"/></a>"
      ]
    },
    {
      "cell_type": "code",
      "execution_count": 2,
      "metadata": {
        "id": "t4PQu9kp5m22",
        "outputId": "2de75397-d788-4a25-9a47-ec8cffbd0bd2",
        "colab": {
          "base_uri": "https://localhost:8080/"
        }
      },
      "outputs": [
        {
          "output_type": "stream",
          "name": "stdout",
          "text": [
            "Requirement already satisfied: scikit-surprise in /usr/local/lib/python3.10/dist-packages (1.1.3)\n",
            "Requirement already satisfied: joblib>=1.0.0 in /usr/local/lib/python3.10/dist-packages (from scikit-surprise) (1.3.2)\n",
            "Requirement already satisfied: numpy>=1.17.3 in /usr/local/lib/python3.10/dist-packages (from scikit-surprise) (1.25.2)\n",
            "Requirement already satisfied: scipy>=1.3.2 in /usr/local/lib/python3.10/dist-packages (from scikit-surprise) (1.11.4)\n",
            "Dataset ml-100k could not be found. Do you want to download it? [Y/n] Y\n",
            "Trying to download dataset from https://files.grouplens.org/datasets/movielens/ml-100k.zip...\n",
            "Done! Dataset ml-100k has been saved to /root/.surprise_data/ml-100k\n"
          ]
        }
      ],
      "source": [
        "!pip install scikit-surprise\n",
        "import pandas as pd\n",
        "from surprise import SVD, SVDpp, NMF\n",
        "from surprise import Dataset, Reader\n",
        "from surprise.model_selection import cross_validate\n",
        "\n",
        "# Завантаження датасету movielens\n",
        "data = Dataset.load_builtin('ml-100k')"
      ]
    },
    {
      "cell_type": "code",
      "source": [
        "df = pd.DataFrame(data.raw_ratings, columns=[\"user_id\", \"item_id\", \"rating\", \"timestamp\"])\n",
        "print(df.head())"
      ],
      "metadata": {
        "id": "bVIH69MErgGx",
        "outputId": "16b56549-49ce-4c97-cc13-414561b1f86d",
        "colab": {
          "base_uri": "https://localhost:8080/"
        }
      },
      "execution_count": 3,
      "outputs": [
        {
          "output_type": "stream",
          "name": "stdout",
          "text": [
            "  user_id item_id  rating  timestamp\n",
            "0     196     242     3.0  881250949\n",
            "1     186     302     3.0  891717742\n",
            "2      22     377     1.0  878887116\n",
            "3     244      51     2.0  880606923\n",
            "4     166     346     1.0  886397596\n"
          ]
        }
      ]
    },
    {
      "cell_type": "code",
      "source": [
        "svd_model = SVD()\n",
        "svdpp_model = SVDpp()\n",
        "nmf_model = NMF()\n",
        "\n",
        "# Крос-валідація\n",
        "cross_validate(svd_model, data, measures=['RMSE', 'MAE'], cv=5, verbose=True)\n",
        "cross_validate(svdpp_model, data, measures=['RMSE', 'MAE'], cv=5, verbose=True)\n",
        "cross_validate(nmf_model, data, measures=['RMSE', 'MAE'], cv=5, verbose=True)\n"
      ],
      "metadata": {
        "id": "M67tMecPtZFj",
        "outputId": "136b2250-d853-413e-de37-d7725ffe9284",
        "colab": {
          "base_uri": "https://localhost:8080/"
        }
      },
      "execution_count": 4,
      "outputs": [
        {
          "output_type": "stream",
          "name": "stdout",
          "text": [
            "Evaluating RMSE, MAE of algorithm SVD on 5 split(s).\n",
            "\n",
            "                  Fold 1  Fold 2  Fold 3  Fold 4  Fold 5  Mean    Std     \n",
            "RMSE (testset)    0.9419  0.9373  0.9319  0.9296  0.9376  0.9356  0.0044  \n",
            "MAE (testset)     0.7425  0.7374  0.7341  0.7303  0.7392  0.7367  0.0042  \n",
            "Fit time          1.69    1.21    1.43    1.48    1.23    1.41    0.18    \n",
            "Test time         0.13    0.11    0.18    0.14    0.11    0.13    0.03    \n",
            "Evaluating RMSE, MAE of algorithm SVDpp on 5 split(s).\n",
            "\n",
            "                  Fold 1  Fold 2  Fold 3  Fold 4  Fold 5  Mean    Std     \n",
            "RMSE (testset)    0.9177  0.9252  0.9143  0.9223  0.9190  0.9197  0.0038  \n",
            "MAE (testset)     0.7204  0.7281  0.7166  0.7252  0.7217  0.7224  0.0040  \n",
            "Fit time          26.02   26.69   26.47   26.18   26.22   26.32   0.23    \n",
            "Test time         6.09    4.41    5.06    4.33    5.16    5.01    0.63    \n",
            "Evaluating RMSE, MAE of algorithm NMF on 5 split(s).\n",
            "\n",
            "                  Fold 1  Fold 2  Fold 3  Fold 4  Fold 5  Mean    Std     \n",
            "RMSE (testset)    0.9627  0.9632  0.9496  0.9707  0.9665  0.9625  0.0071  \n",
            "MAE (testset)     0.7592  0.7569  0.7477  0.7616  0.7580  0.7567  0.0048  \n",
            "Fit time          1.79    1.69    1.66    1.83    2.24    1.84    0.21    \n",
            "Test time         0.09    0.20    0.10    0.29    0.09    0.15    0.08    \n"
          ]
        },
        {
          "output_type": "execute_result",
          "data": {
            "text/plain": [
              "{'test_rmse': array([0.96271982, 0.96315368, 0.94963546, 0.97070567, 0.96647243]),\n",
              " 'test_mae': array([0.75920911, 0.75690024, 0.74770915, 0.76160118, 0.75799451]),\n",
              " 'fit_time': (1.7901103496551514,\n",
              "  1.6936166286468506,\n",
              "  1.662046194076538,\n",
              "  1.8278968334197998,\n",
              "  2.244724750518799),\n",
              " 'test_time': (0.09181928634643555,\n",
              "  0.19760346412658691,\n",
              "  0.09769058227539062,\n",
              "  0.29086875915527344,\n",
              "  0.09203720092773438)}"
            ]
          },
          "metadata": {},
          "execution_count": 4
        }
      ]
    },
    {
      "cell_type": "code",
      "source": [
        "from surprise.model_selection import GridSearchCV\n",
        "param_grid = {'n_epochs': [5, 10, 20], 'lr_all': [0.002, 0.005, 0.01],\n",
        "              'reg_all': [0.4, 0.6, 0.8]}\n",
        "\n",
        "# Використання GridSearchCV для пошуку оптимальних параметрів\n",
        "grid_search = GridSearchCV(SVD, param_grid, measures=['RMSE'], cv=5)\n",
        "grid_search.fit(data)"
      ],
      "metadata": {
        "id": "cccISZcrwfSy"
      },
      "execution_count": 9,
      "outputs": []
    },
    {
      "cell_type": "code",
      "source": [
        "best_params = grid_search.best_params['rmse']\n",
        "print(\"Best Parameters:\", best_params)"
      ],
      "metadata": {
        "id": "IH6EFtfBxdhG",
        "outputId": "442e1f96-2794-4c1a-99f1-0d792374d86d",
        "colab": {
          "base_uri": "https://localhost:8080/"
        }
      },
      "execution_count": 10,
      "outputs": [
        {
          "output_type": "stream",
          "name": "stdout",
          "text": [
            "Best Parameters: {'n_epochs': 20, 'lr_all': 0.01, 'reg_all': 0.4}\n"
          ]
        }
      ]
    },
    {
      "cell_type": "code",
      "source": [
        "final_svd_model = SVD(n_epochs=best_params['n_epochs'], lr_all=best_params['lr_all'], reg_all=best_params['reg_all'])\n",
        "trainset = data.build_full_trainset()\n",
        "final_svd_model.fit(trainset)"
      ],
      "metadata": {
        "id": "IhAvX4x7xioB",
        "outputId": "f99822d3-2e56-4053-e7c2-d096db409f29",
        "colab": {
          "base_uri": "https://localhost:8080/"
        }
      },
      "execution_count": 11,
      "outputs": [
        {
          "output_type": "execute_result",
          "data": {
            "text/plain": [
              "<surprise.prediction_algorithms.matrix_factorization.SVD at 0x7adc0f7d45e0>"
            ]
          },
          "metadata": {},
          "execution_count": 11
        }
      ]
    },
    {
      "cell_type": "code",
      "source": [
        "user_id = '42'\n",
        "all_predictions = final_svd_model.test(trainset.build_anti_testset(fill=None))\n",
        "\n",
        "# Виведення всіх прогнозів для користувача\n",
        "for pred in all_predictions:\n",
        "    print(f\"Item ID: {pred.iid}, Prediction: {pred.est}\")\n",
        "#Краще не запускати..."
      ],
      "metadata": {
        "id": "ex9EyaFlxyMs"
      },
      "execution_count": null,
      "outputs": []
    },
    {
      "cell_type": "code",
      "source": [
        "import numpy as np"
      ],
      "metadata": {
        "id": "joMlqhjQy7Le"
      },
      "execution_count": 3,
      "outputs": []
    },
    {
      "cell_type": "code",
      "source": [
        "class MatrixFactorization:\n",
        "    def __init__(self, num_users, num_items, num_features, learning_rate, reg_param, num_iterations):\n",
        "        self.num_users = num_users\n",
        "        self.num_items = num_items\n",
        "        self.num_features = num_features\n",
        "        self.learning_rate = learning_rate\n",
        "        self.reg_param = reg_param\n",
        "        self.num_iterations = num_iterations\n",
        "        self.user_matrix = np.random.rand(num_users, num_features)\n",
        "        self.item_matrix = np.random.rand(num_items, num_features)\n",
        "\n",
        "    def predict_rating(self, user_id, item_id):\n",
        "        return np.dot(self.user_matrix[user_id], self.item_matrix[item_id])\n",
        "\n",
        "    def loss_function(self, user_id, item_id, true_rating):\n",
        "        predicted_rating = self.predict_rating(user_id, item_id)\n",
        "        error = true_rating - predicted_rating\n",
        "        regularization_term = 0.5 * (np.linalg.norm(self.user_matrix[user_id]) + np.linalg.norm(self.item_matrix[item_id]))\n",
        "        return 0.5 * error**2 + 0.5 * self.reg_param * regularization_term\n",
        "\n",
        "    def gradient_descent(self, user_id, item_id, true_rating):\n",
        "        error = true_rating - self.predict_rating(user_id, item_id)\n",
        "        user_gradient = -error * self.item_matrix[item_id] + self.reg_param * self.user_matrix[user_id]\n",
        "        item_gradient = -error * self.user_matrix[user_id] + self.reg_param * self.item_matrix[item_id]\n",
        "\n",
        "        self.user_matrix[user_id] -= self.learning_rate * user_gradient\n",
        "        self.item_matrix[item_id] -= self.learning_rate * item_gradient\n",
        "\n",
        "    def train(self, user_ratings):\n",
        "        for _ in range(self.num_iterations):\n",
        "            for user_id, item_id, rating in user_ratings:\n",
        "                self.gradient_descent(user_id, item_id, rating)\n",
        "\n",
        "    def evaluate(self, test_ratings):\n",
        "        total_loss = 0.0\n",
        "        for user_id, item_id, true_rating in test_ratings:\n",
        "            total_loss += self.loss_function(user_id, item_id, true_rating)\n",
        "        return total_loss / len(test_ratings)"
      ],
      "metadata": {
        "id": "-kvOIkT60pm5"
      },
      "execution_count": 4,
      "outputs": []
    },
    {
      "cell_type": "code",
      "source": [
        "num_users = 100\n",
        "num_items = 50\n",
        "num_features = 10\n",
        "learning_rate = 0.01\n",
        "reg_param = 0.01\n",
        "num_iterations = 50\n",
        "\n",
        "mf_model = MatrixFactorization(num_users, num_items, num_features, learning_rate, reg_param, num_iterations)"
      ],
      "metadata": {
        "id": "xAeWuZ7V0s2n"
      },
      "execution_count": 6,
      "outputs": []
    },
    {
      "cell_type": "code",
      "source": [
        "np.random.seed(42)\n",
        "train_ratings = np.random.randint(0, 6, size=(500, 3))  # припустимо, що є 500 рейтингів у тренувальному датасеті\n",
        "test_ratings = np.random.randint(0, 6, size=(100, 3))   # припустимо, що є 100 рейтингів у тестовому датасеті\n"
      ],
      "metadata": {
        "id": "i7wSYf7e02Da"
      },
      "execution_count": 7,
      "outputs": []
    },
    {
      "cell_type": "code",
      "source": [
        "mf_model.train(train_ratings)"
      ],
      "metadata": {
        "id": "NSh0cEtL03xe"
      },
      "execution_count": 8,
      "outputs": []
    },
    {
      "cell_type": "code",
      "source": [
        "test_loss = mf_model.evaluate(test_ratings)\n",
        "print(f'Test Loss: {test_loss}')\n"
      ],
      "metadata": {
        "id": "Q8jI6vUQ07SZ",
        "outputId": "dae82bc7-ba9f-4abf-b7e4-24b50d61dfcd",
        "colab": {
          "base_uri": "https://localhost:8080/"
        }
      },
      "execution_count": 9,
      "outputs": [
        {
          "output_type": "stream",
          "name": "stdout",
          "text": [
            "Test Loss: 1.7745863957112649\n"
          ]
        }
      ]
    },
    {
      "cell_type": "code",
      "source": [],
      "metadata": {
        "id": "vgAL6XPS1OEL"
      },
      "execution_count": null,
      "outputs": []
    }
  ]
}